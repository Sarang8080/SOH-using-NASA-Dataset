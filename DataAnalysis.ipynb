{
 "cells": [
  {
   "cell_type": "code",
   "execution_count": null,
   "metadata": {},
   "outputs": [],
   "source": [
    "import matplotlib.pyplot as plt #import plot\n",
    "from mat2json import loadMat\n",
    "from util import getBatteryCapacity, getChargingValues, getDischargingValues, getDataframe, series_to_supervised, rollingAverage"
   ]
  },
  {
   "cell_type": "code",
   "execution_count": null,
   "metadata": {},
   "outputs": [],
   "source": [
    "B0005 = loadMat('B0005.mat')\n",
    "B0006 = loadMat('B0006.mat')\n",
    "B0007 = loadMat('B0007.mat')\n",
    "B0018 = loadMat('B0008.mat')"
   ]
  },
  {
   "cell_type": "code",
   "execution_count": null,
   "metadata": {},
   "outputs": [],
   "source": []
  },
  {
   "cell_type": "code",
   "execution_count": null,
   "metadata": {},
   "outputs": [],
   "source": [
    "B0005_capacity = getBatteryCapacity(B0005)\n",
    "B0054_capacity = getBatteryCapacity(B0054)\n",
    "B0055_capacity = getBatteryCapacity(B0055)\n",
    "B0056_capacity = getBatteryCapacity(B0056)"
   ]
  },
  {
   "cell_type": "code",
   "execution_count": null,
   "metadata": {},
   "outputs": [],
   "source": [
    "fig, ax = plt.subplots(1, figsize=(12, 8))\n",
    "\n",
    "ax.plot(B0005_capacity[0], B0005_capacity[1], color='orange', label='Battery-5')\n",
    "ax.plot(B0006_capacity[0], B0006_capacity[1], color='red', label='Battery-6')\n",
    "ax.plot(B007_capacity[0], B0007_capacity[1], color='green', label='Battery-7')\n",
    "ax.plot(B0018_capacity[0], B0018_capacity[1], color='blue', label='Battery-18')\n",
    "ax.set(xlabel='Discharge cycles', ylabel='Capacity/Ah', title='Capacity degradation')\n",
    "plt.legend()"
   ]
  },
  {
   "cell_type": "code",
   "execution_count": null,
   "metadata": {},
   "outputs": [],
   "source": [
    "charging_labels = ['Voltage_measured','Current_measured','Temperature_measured']"
   ]
  },
  {
   "cell_type": "code",
   "execution_count": null,
   "metadata": {},
   "outputs": [],
   "source": [
    "B0005_charging = getChargingValues(B0005, 5)\n",
    "B0006_charging = getChargingValues(B0006, 5)\n",
    "B0007_charging = getChargingValues(B0007, 5)\n",
    "B0018_charging = getChargingValues(B0018, 5)\n"
   ]
  },
  {
   "cell_type": "code",
   "execution_count": null,
   "metadata": {},
   "outputs": [],
   "source": [
    "indx = 1\n",
    "for label in charging_labels:\n",
    "    fig, ax = plt.subplots(1, figsize=(20, 7))\n",
    "    fig1, ax1 = plt.subplots(1, figsize=(20, 7))\n",
    "    fig2, ax2 = plt.subplots(1, figsize=(20, 7))\n",
    "    fig3, ax3=plt.subplots(1, figsize=(20, 7))\n",
    "\n",
    "    ax.plot(B0005_charging[5], B0005_charging[indx], color='red' ,label=\"B0005\")\n",
    "    ax1.plot(B0006_charging[5], B0006_charging[indx], color='orange', label=\"B0006\")\n",
    "    ax2.plot(B0007_charging[5], B0007_charging[indx], color='blue' ,label=\"B0007\")\n",
    "    ax3.plot(B0018_charging[5], B0018_charging[indx], color='pink' ,label=\"B0018\")\n",
    "\n",
    "    ax.set(xlabel='Time in seconds', ylabel=label, title='Charging performance ')\n",
    "    plt.legend()\n",
    "    ax1.set(xlabel='Time in seconds', ylabel=label, title='Charging performance ')\n",
    "    ax2.set(xlabel='Time in seconds', ylabel=label, title='Charging performance')\n",
    "    ax3.set(xlabel='Time in seconds', ylabel=label, title='Charging performance')\n",
    "    \n",
    "    \n",
    "    indx += 1    "
   ]
  }
 ],
 "metadata": {
  "kernelspec": {
   "display_name": "Python 3",
   "language": "python",
   "name": "python3"
  },
  "language_info": {
   "codemirror_mode": {
    "name": "ipython",
    "version": 3
   },
   "file_extension": ".py",
   "mimetype": "text/x-python",
   "name": "python",
   "nbconvert_exporter": "python",
   "pygments_lexer": "ipython3",
   "version": "3.7.1-final"
  }
 },
 "nbformat": 4,
 "nbformat_minor": 2
}